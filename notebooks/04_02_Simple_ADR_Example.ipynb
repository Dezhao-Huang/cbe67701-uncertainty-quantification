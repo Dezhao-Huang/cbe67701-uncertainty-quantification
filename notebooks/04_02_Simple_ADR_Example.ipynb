{
  "nbformat": 4,
  "nbformat_minor": 0,
  "metadata": {
    "colab": {
      "name": "04.02.Simple ADR Example.ipynb",
      "provenance": [],
      "collapsed_sections": []
    },
    "kernelspec": {
      "name": "python3",
      "display_name": "Python 3"
    }
  },
  "cells": [
    {
      "cell_type": "markdown",
      "metadata": {
        "id": "RUPnOS_kKsBa",
        "colab_type": "text"
      },
      "source": [
        "# **Chapter 4. Local Sensitivity Analysis Based on Derivative Approximations**\n",
        "Noah Wamble (nwamble@nd.edu) \n",
        "June 22nd, 2020"
      ]
    },
    {
      "cell_type": "markdown",
      "metadata": {
        "id": "pm6095qCKz8I",
        "colab_type": "text"
      },
      "source": [
        "### **What do we want to know?** \n",
        "\n",
        "* How would the QoIs vary for small, expected perturbations in the inputs if given knowledge of the QoI at a particular value? To accomplish this, we are interested in the derivative of the QoI at a nominal input value (95)."
      ]
    },
    {
      "cell_type": "markdown",
      "metadata": {
        "id": "AUwChLScLAYK",
        "colab_type": "text"
      },
      "source": [
        "### **Why do we want to know that?**\n",
        "\n",
        "\n",
        "* This information will allow us **to see which parameters have a larger effect** on the QoI. \n",
        "\n",
        "* Knowing the sensitivities allows the researcher **to narrow the focus** to a smaller number of parameters and then apply more rigorous techniques to only these parameters. \n",
        "\n",
        "* If the variabilities in these distributions are small, it may be possible to **quantify the uncertainty** in the QoI to these parameters using only local information (95).\n"
      ]
    },
    {
      "cell_type": "markdown",
      "metadata": {
        "id": "GAePL8DTL-Vb",
        "colab_type": "text"
      },
      "source": [
        "### **4.3.1 Simple ADR Example** \n",
        "We will study the steady advection-diffusion-reaction equation  in one-spatial dimension with a spatially constant, but uncertain, diffusion coefficient, a linear reaction term, and a prescribed uncertain source.\n",
        "\n",
        "$$\n",
        "\\nu \\frac{du}{dx} - \\omega \\frac{d^2u}{dx^2} + \\kappa(x)u = S(x)\n",
        "$$\n",
        "With initial condition: \n",
        "$$\n",
        " u(0)=u(10)=0\n",
        "$$\n",
        "Where:\n",
        "$$\n",
        "\\kappa(x) =     \\begin{cases}\n",
        "      \\kappa_l & x \\: \\epsilon \\: (5,7.5)\\\\\n",
        "      \\kappa_h & \\text{otherwise}\\\\\n",
        "    \\end{cases} \n",
        "$$\n",
        "$$\n",
        "$$\n",
        "$$ \n",
        "S(x)= qx(10-x)\n",
        "$$\n",
        "\n",
        "With $\\mu_v =10$, $\\mu_\\omega= 20$, Var$(\\mu_v)=0.0723493$, Var$(\\omega)= 0.3195214$\n",
        "\n",
        "\n",
        "\n",
        " $\\mu_{\\kappa_h} = 2$, Var$( \\kappa_h ) = 0.002778142$ , and $\\mu_{k_l} = 0.1$, Var$( \\kappa_l )= 8.511570 \\times 10^{-6}$, $\\mu_q = 1,$ Var$(q)= 7.062353 \\times 10^{-4}$ \n",
        "\n",
        "We also prescribe that the parameters ordered as $(\\nu,\\omega,\\kappa_l,\\kappa_u,q)$ have the following correlation matrix: \n",
        "\n",
        "$$\n",
        "R= \n",
        "\\begin{pmatrix}\n",
        "1.00 & 0.10 & -0.05 & 0.00 & 0.00\\\\\n",
        "0.10 & 1.00 & -0.40 & 0.30 & 0.50 \\\\\n",
        "0.00 & 0.30 & 0.20 & 1.00 & -0.10 \\\\\n",
        "0.00 & 0.50 & 0.00 & -0.10 & 1.00 \\\\\n",
        "\\end{pmatrix}\n",
        "$$\n",
        "The QoI is total reaction rate: \n",
        "$$\n",
        "Q= \\int^{10}_{0} \\kappa(x_ u)(x)dx\n",
        "$$\n"
      ]
    },
    {
      "cell_type": "markdown",
      "metadata": {
        "id": "dwRcQkuIQozE",
        "colab_type": "text"
      },
      "source": [
        "**Import Libraries**\n",
        "\n"
      ]
    },
    {
      "cell_type": "code",
      "metadata": {
        "id": "uGpgzLB_PCOh",
        "colab_type": "code",
        "colab": {}
      },
      "source": [
        "import matplotlib.pyplot as plt\n",
        "import numpy as np\n",
        "import scipy.sparse as sparse\n",
        "import scipy.sparse.linalg as linalg\n",
        "import scipy.integrate as integrate\n",
        "import math"
      ],
      "execution_count": null,
      "outputs": []
    },
    {
      "cell_type": "markdown",
      "metadata": {
        "id": "ms4kt8rRWl9p",
        "colab_type": "text"
      },
      "source": [
        "**Numerical Method to Solve ADR Equation** "
      ]
    },
    {
      "cell_type": "code",
      "metadata": {
        "id": "TLf2mdKkKy_z",
        "colab_type": "code",
        "colab": {}
      },
      "source": [
        "def ADRSource(Lx, Nx, Source, omega, v, kappa):\n",
        "    \"\"\"\n",
        "    This function solves the diffusion equation with a generalized source. \n",
        "    \n",
        "    Inputs \n",
        "    Lx, Nx: Used to make the size of the dx term \n",
        "    Source: Source function\n",
        "    omega: diffusion coefficient \n",
        "    v: velocity field  \n",
        "    kappa: reaction coefficient equation \n",
        "\n",
        "\n",
        "    Outputs:\n",
        "    Solution: u(x) values \n",
        "    Q: Total reaction rate \n",
        "    \n",
        "    \"\"\"\n",
        "    \n",
        "    #Initialize A matrix that will be solved \n",
        "    A = sparse.dia_matrix((Nx,Nx),dtype=\"complex\")\n",
        "    #Initialize size of dx step \n",
        "    dx = Lx/Nx\n",
        "    i2dx2 = 1.0/(dx*dx)\n",
        "    #fill diagonal of A\n",
        "    A.setdiag(2*i2dx2*omega + np.sign(v)*v/dx + kappa)\n",
        "    #fill off diagonals of A\n",
        "    A.setdiag(-i2dx2*omega[1:Nx] +\n",
        "              0.5*(1-np.sign(v[1:Nx]))*v[1:Nx]/dx,1)\n",
        "    A.setdiag(-i2dx2*omega[0:(Nx-1)] -\n",
        "              0.5*(np.sign(v[0:(Nx-1)])+1)*v[0:(Nx-1)]/dx,-1)\n",
        "    \n",
        "    #solving equation A x = Source\n",
        "    Solution = linalg.spsolve(A,Source)\n",
        "    #Use trapezoidal integrater to find integral\n",
        "    Q = integrate.trapz(Solution*kappa,dx=dx)\n",
        "\n",
        "    return Solution, Q"
      ],
      "execution_count": null,
      "outputs": []
    },
    {
      "cell_type": "markdown",
      "metadata": {
        "id": "kCjKFR0FYHQx",
        "colab_type": "text"
      },
      "source": [
        "**Define Parameters**"
      ]
    },
    {
      "cell_type": "code",
      "metadata": {
        "id": "SKObIHN3KRhC",
        "colab_type": "code",
        "colab": {
          "base_uri": "https://localhost:8080/",
          "height": 385
        },
        "outputId": "c075e88b-3977-4adf-b684-a568bc0002dd"
      },
      "source": [
        "#Define desired spatial map and step\n",
        "Lx = 10\n",
        "Nx = 2000\n",
        "dx = Lx/Nx\n",
        "\n",
        "#Define functions that will be used by numerical solver \n",
        "#source function \n",
        "Source_func = lambda x, q:  q*x*(10-x)\n",
        "#reaction constants \n",
        "kappa_func = lambda x, kappal, kappah: kappah + (kappal-kappah)*(x>5)*(x<7.5)\n",
        "#Initialize these to the correct size \n",
        "v_func = lambda x,v: v*np.ones(x.size)\n",
        "omega_func = lambda x,omega: omega*np.ones(x.size)\n",
        "source = Source_func(xs, 1)\n",
        "kappa = kappa_func(xs, 0.1, 2)\n",
        "\n",
        "#Define array for plotting purposes \n",
        "xs = np.linspace(dx/2,Lx-dx/2,Nx)\n",
        "\n",
        "#nominal values and given variances \n",
        "omega_nom = 20\n",
        "omega_var = 0.3195214\n",
        "v_nom = 10\n",
        "v_var = 0.0723493\n",
        "kappal_nom = 0.1\n",
        "kappal_var = 8.511570e-6\n",
        "kappah_nom = 2\n",
        "kappah_var = 0.002778142\n",
        "q_nom = 1\n",
        "q_var = 7.062353e-4\n",
        "vs = v_func(xs, v_nom)\n",
        "# print(vs)\n",
        "\n",
        "#Call Numerical Function above to solve equation \n",
        "sol,Q = ADRSource(Lx, Nx, source, omega_func(xs, omega_nom), vs, kappa)\n",
        "# print(Q)\n",
        "\n",
        "#Plot solution \n",
        "plt.plot(xs,sol)\n",
        "plt.xlabel('x')\n",
        "plt.ylabel('u(x)')\n",
        "plt.title('The solution u(x) evaluated at mean value of uncertain parameters ')\n",
        "plt.show()\n"
      ],
      "execution_count": null,
      "outputs": [
        {
          "output_type": "stream",
          "text": [
            "/usr/local/lib/python3.6/dist-packages/scipy/sparse/linalg/dsolve/linsolve.py:138: SparseEfficiencyWarning: spsolve requires A be CSC or CSR matrix format\n",
            "  SparseEfficiencyWarning)\n",
            "/usr/local/lib/python3.6/dist-packages/numpy/core/_asarray.py:85: ComplexWarning: Casting complex values to real discards the imaginary part\n",
            "  return array(a, dtype, copy=False, order=order)\n"
          ],
          "name": "stderr"
        },
        {
          "output_type": "display_data",
          "data": {
            "image/png": "[encoded data removed]",
            "text/plain": [
              "<Figure size 432x288 with 1 Axes>"
            ]
          },
          "metadata": {
            "tags": [],
            "needs_background": "light"
          }
        }
      ]
    },
    {
      "cell_type": "markdown",
      "metadata": {
        "id": "T6ugw9X1ZF4z",
        "colab_type": "text"
      },
      "source": [
        "**Sensitivity Analysis** "
      ]
    },
    {
      "cell_type": "markdown",
      "metadata": {
        "id": "2M96vCvlfyQ4",
        "colab_type": "text"
      },
      "source": [
        "Sensitivity using Forward Difference Derivative Approximation: \n",
        "\n",
        "$$\n",
        "\\frac{\\partial Q}{\\partial x_i} \\bigg|_{\\overline{x}} \\approx \\frac{Q(\\overline{x} + \\delta_i\\hat{e_i}) - Q(\\overline{x})}{\\delta_i}\n",
        "$$\n",
        "Scaled Sensitivity Coefficient: \n",
        "\n",
        "$$\n",
        "\\overline{x_i}\\frac{\\delta Q}{\\delta x_i}\\bigg|_\\overline{x}\n",
        "$$\n",
        "\n",
        "Sensitivity Index:\n",
        "$$\n",
        "\\sigma_i\\frac{\\delta Q}{\\delta x_i}\\bigg|_\\overline{x}\n",
        "$$"
      ]
    },
    {
      "cell_type": "code",
      "metadata": {
        "id": "Gkfvtj6rZEiI",
        "colab_type": "code",
        "colab": {
          "base_uri": "https://localhost:8080/",
          "height": 530
        },
        "outputId": "2249e1f4-ad01-40ce-8fa0-3023e8a82a30"
      },
      "source": [
        "\n",
        "#v sensitivity\n",
        "#finite difference step amount \n",
        "delta = 1e-6\n",
        "vs_pert = v_func(xs, v_nom*(1+delta))\n",
        "#Calculate second point for finite difference\n",
        "sol,Q_new = ADRSource(Lx, Nx, source, omega_func(xs, omega_nom), vs_pert, kappa)\n",
        "#finite difference Sensitivity Calculation \n",
        "sens_v = (Q_new - Q)/(v_nom*delta)\n",
        "#Scaled Sensitivity \n",
        "scaled_v = sens_v*v_nom\n",
        "#Sensitivity Index \n",
        "index_v = math.sqrt(v_var)*sens_v\n",
        "#Print Commands \n",
        "print('######################### Sensitivity Analysis #################')\n",
        "print(\"v sensitivity: \", sens_v)\n",
        "print(\"v scaled sensitivity: \", scaled_v)\n",
        "print(\"v Sensitivity index: \", index_v)\n",
        "print('\\n')\n",
        "\n",
        "#omega sensitivity\n",
        "#Calculate second point for finite difference \n",
        "sol,Q_new = ADRSource(Lx, Nx, source, omega_func(xs, omega_nom*(1+delta)), vs, kappa)\n",
        "#Sensitivity calculation using finite difference \n",
        "sens_omega = (Q_new - Q)/(omega_nom*delta)\n",
        "#Scaled sensitivity Calc\n",
        "scaled_v = sens_omega*omega_nom\n",
        "#Sensitivity Index Calc\n",
        "index_v = math.sqrt(omega_var)*sens_omega\n",
        "#Print Commands \n",
        "print(\"omega sensitivity: \", sens_omega)\n",
        "print(\"omega scaled sensitivity: \", scaled_v)\n",
        "print(\"omega sensitivity index: \", index_v)\n",
        "print('\\n')\n",
        "\n",
        "#kappal sensitivity\n",
        "#Calculate second point value for finite difference \n",
        "sol,Q_new = ADRSource(Lx, Nx, source, omega_func(xs, omega_nom), vs, kappa_func(xs, kappal_nom*(1+delta), 2))\n",
        "#Sensitivity Calculation using finite difference \n",
        "sens_kappal = (Q_new - Q)/(kappal_nom*delta)\n",
        "#Scaled Sensitivity Calc \n",
        "scaled_v = sens_kappal*kappal_nom\n",
        "#Sensitivity Index Calc\n",
        "index_v = math.sqrt(kappal_var)*sens_kappal\n",
        "#Print Commands \n",
        "print(\"Kappa_l sensitivity: \", sens_kappal)\n",
        "print(\"Kappa_l scaled sensitivity: \", scaled_v)\n",
        "print(\"Kappa_l sensitivity index: \", index_v)\n",
        "print('\\n')\n",
        "\n",
        "#kappah sensitivity\n",
        "#Calculate second point value for finite difference \n",
        "sol,Q_new = ADRSource(Lx, Nx, source, omega_func(xs, omega_nom), vs, kappa_func(xs, kappal_nom, kappah_nom*(1+delta)))\n",
        "#Sensitivity Calculation using finite difference \n",
        "sens_kappah = (Q_new - Q)/(kappah_nom*delta)\n",
        "#Scaled Sensitivity Calc\n",
        "scaled_v = sens_kappah*kappah_nom\n",
        "#Sensitivity Index Calc\n",
        "index_v = math.sqrt(kappah_var)*sens_kappah\n",
        "#Print Commands \n",
        "print(\"Kappa_h sensitivity: \", sens_kappah)\n",
        "print(\"Kappa_h scaled sensitivity: \", scaled_v)\n",
        "print(\"Kappa_h sensitivity index: \", index_v)\n",
        "print('\\n')\n",
        "\n",
        "#q sensitivity\n",
        "#Calculate second point value for finite difference \n",
        "sol,Q_new = ADRSource(Lx, Nx, Source_func(xs, q_nom*(1+delta)), omega_func(xs, omega_nom), vs,kappa_func(xs, kappal_nom, kappah_nom))\n",
        "sens_q = (Q_new - Q)/(q_nom*delta)\n",
        "#Scaled Sensitivity Calc\n",
        "scaled_v = sens_q*q_nom\n",
        "#Sensitivity Index Calc\n",
        "index_v = math.sqrt(q_var)*sens_q\n",
        "#print commands\n",
        "print(\"q sensitivity: \", sens_q)\n",
        "print(\"q scaled sensitivity: \", scaled_v)\n",
        "print(\"q sensitivity index: \", index_v)\n",
        "print('\\n')"
      ],
      "execution_count": null,
      "outputs": [
        {
          "output_type": "stream",
          "text": [
            "######################### Sensitivity Analysis #################\n",
            "v sensitivity:  (-1.7406387549101512+0j)\n",
            "v scaled sensitivity:  (-17.406387549101513+0j)\n",
            "v Sensitivity index:  (-0.46819396950072134+0j)\n",
            "\n",
            "\n",
            "omega sensitivity:  (-0.970203846506479+0j)\n",
            "omega scaled sensitivity:  (-19.40407693012958+0j)\n",
            "omega sensitivity index:  (-0.5484195995587706+0j)\n",
            "\n",
            "\n",
            "Kappa_l sensitivity:  (12.867971008745371+0j)\n",
            "Kappa_l scaled sensitivity:  (1.2867971008745371+0j)\n",
            "Kappa_l sensitivity index:  (0.0375417844104318+0j)\n",
            "\n",
            "\n",
            "Kappa_h sensitivity:  (17.761271102756382+0j)\n",
            "Kappa_h scaled sensitivity:  (35.522542205512764+0j)\n",
            "Kappa_h sensitivity index:  (0.9361625491891298+0j)\n",
            "\n",
            "\n",
            "q sensitivity:  (52.39025306025269+0j)\n",
            "q scaled sensitivity:  (52.39025306025269+0j)\n",
            "q sensitivity index:  (1.3922755832423062+0j)\n",
            "\n",
            "\n"
          ],
          "name": "stdout"
        },
        {
          "output_type": "stream",
          "text": [
            "/usr/local/lib/python3.6/dist-packages/scipy/sparse/linalg/dsolve/linsolve.py:138: SparseEfficiencyWarning: spsolve requires A be CSC or CSR matrix format\n",
            "  SparseEfficiencyWarning)\n"
          ],
          "name": "stderr"
        }
      ]
    }
  ]
}