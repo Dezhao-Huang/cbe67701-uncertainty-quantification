{
 "cells": [
  {
   "cell_type": "markdown",
   "metadata": {},
   "source": [
    "# Our First Notebook"
   ]
  },
  {
   "cell_type": "markdown",
   "metadata": {},
   "source": [
    "Created by A. Dowling (adowling@nd.edu)"
   ]
  },
  {
   "cell_type": "code",
   "execution_count": 2,
   "metadata": {},
   "outputs": [],
   "source": [
    "## import all needed Python libraries here\n",
    "import matplotlib.pyplot as plt\n",
    "from mpl_toolkits.mplot3d.axes3d import Axes3D"
   ]
  },
  {
   "cell_type": "markdown",
   "metadata": {},
   "source": [
    "## Python Tutorials\n",
    "\n",
    "We will use primarily Python this semester. Here are some getting started tutorials from Prof. Kantor:\n",
    "* [Jupyter Notebooks, Python, and Google Colaboratory (CBE20255)](https://nbviewer.jupyter.org/github/jckantor/CBE20255/blob/master/notebooks/00.01-Getting-Started-with-Jupyter-Notebooks-and-Python.ipynb)\n",
    "* [Getting Started with Python and Jupyter Notebooks (CBE30338)](https://nbviewer.jupyter.org/github/jckantor/CBE30338/blob/master/notebooks/01.01-Getting-Started-with-Python-and-Jupyter-Notebooks.ipynb)\n",
    "* [Python Basics (CBE30338)](https://nbviewer.jupyter.org/github/jckantor/CBE30338/blob/master/notebooks/01.02-Python-Basics.ipynb)\n",
    "* [Python Conditionals and Libraries (CBE30338)](https://nbviewer.jupyter.org/github/jckantor/CBE30338/blob/master/notebooks/01.03-Python-Conditionals-and-Libraries.ipynb)\n",
    "* [Python Numeric Integration Revisited (CBE30338)](https://nbviewer.jupyter.org/github/jckantor/CBE30338/blob/master/notebooks/01.04-Python-Numeric-Integration-Revisited.ipynb)\n",
    "* [Getting Started with Pandas (CBE40455)](https://nbviewer.jupyter.org/github/jckantor/CBE40455/blob/master/notebooks/01.04-Getting-Started-with-Pandas.ipynb)\n",
    "\n",
    "These tutorials come from three separates classes; our apologies for any repetition.\n",
    "\n",
    "Prof. McClarren has provided supplemental examples in both Python and R. Although it is possible to [run R on Google Colab](https://colab.research.google.com/drive/1BYnnbqeyZAlYnxR9IHC8tpW07EpDeyKR), the steps are a little clunky. If possible, let's try to find popular Python libraries to replace the R examples if possible."
   ]
  },
  {
   "cell_type": "markdown",
   "metadata": {},
   "source": [
    "## Markdown Tutorial"
   ]
  },
  {
   "cell_type": "markdown",
   "metadata": {},
   "source": [
    "Markdown cells allow us to write text in notebooks. We can also use LaTeX to typeset questions:\n",
    "    \n",
    "$$A = \\pi r^2$$\n",
    "\n",
    "In a markdown cell, starting a line with...\n",
    "\n",
    "*#* creates a title. Please only use this at the top of the notebook.\n",
    "\n",
    "*##* creates a section title. We recommend organizing your example into 2 to 5 sections.\n",
    "\n",
    "*###* creates a subsection title.\n",
    "\n",
    "*####* createa a subsubsection title.\n",
    "\n",
    "The package [nbpages](https://github.com/jckantor/nbpages) will automatically add numbers to sections, subsections, etc. when publishing to the HTML website. Please do not start titles with a number. Prof. Dowling will run `nbpages`.\n",
    "\n",
    "Recommended tutorial: [Markdown in Jupyter Notebook](https://www.datacamp.com/community/tutorials/markdown-in-jupyter-notebook)\n",
    "\n",
    "Please avoid adding HTML code to your markdown cells. HTML code can cause formatting issues with `nbpages`."
   ]
  },
  {
   "cell_type": "markdown",
   "metadata": {},
   "source": [
    "## Installing Packages in Colab"
   ]
  },
  {
   "cell_type": "markdown",
   "metadata": {},
   "source": [
    "Let's say you want to use a niche Python package. Not a problem. We can add code to automatically detect if a package is available and install it if needed."
   ]
  },
  {
   "cell_type": "code",
   "execution_count": null,
   "metadata": {},
   "outputs": [],
   "source": [
    "## Tip: Please put code like this at the top of your notebook.\n",
    "# We want all of the module/package installations to start up front\n",
    "\n",
    "# Packages to interface with your operating system or Colab\n",
    "import shutil\n",
    "import sys\n",
    "import os.path\n",
    "\n",
    "# Check if Pyomo is available. If not, install it.\n",
    "if not shutil.which(\"pyomo\"):\n",
    "    !pip install -q pyomo\n",
    "    assert(shutil.which(\"pyomo\"))\n",
    "    \n",
    "# Check in Ipopt (solver) is available. If not, install it.\n",
    "if not (shutil.which(\"ipopt\") or os.path.isfile(\"ipopt\")):\n",
    "    # Check if we are running on Google Colab\n",
    "    if \"google.colab\" in sys.modules:\n",
    "        !wget -N -q \"https://ampl.com/dl/open/ipopt/ipopt-linux64.zip\"\n",
    "        !unzip -o -q ipopt-linux64\n",
    "    # Otherwise, try conda\n",
    "    else:\n",
    "        try:\n",
    "            !conda install -c conda-forge ipopt \n",
    "        except:\n",
    "            pass\n",
    "\n",
    "# Verify Ipopt is now available\n",
    "assert(shutil.which(\"ipopt\") or os.path.isfile(\"ipopt\"))\n",
    "\n",
    "# Now import the library Pyomo\n",
    "from pyomo.environ import *\n",
    "from pyomo.dae import *"
   ]
  },
  {
   "cell_type": "markdown",
   "metadata": {},
   "source": [
    "TODO: Add logic to only install package if on Colab. (https://nbviewer.jupyter.org/github/jckantor/ND-Pyomo-Cookbook/blob/master/notebooks/01.02-Running-Pyomo-on-Google-Colab.ipynb)"
   ]
  },
  {
   "cell_type": "markdown",
   "metadata": {},
   "source": [
    "## Advection-Diffusion-Reaction Example"
   ]
  },
  {
   "cell_type": "markdown",
   "metadata": {},
   "source": [
    "Adapted here: https://nbviewer.jupyter.org/github/jckantor/ND-Pyomo-Cookbook/blob/master/notebooks/05.03-Heat_Conduction_in_Various_Geometries.ipynb"
   ]
  },
  {
   "cell_type": "code",
   "execution_count": null,
   "metadata": {},
   "outputs": [],
   "source": []
  }
 ],
 "metadata": {
  "kernelspec": {
   "display_name": "Python 3",
   "language": "python",
   "name": "python3"
  },
  "language_info": {
   "codemirror_mode": {
    "name": "ipython",
    "version": 3
   },
   "file_extension": ".py",
   "mimetype": "text/x-python",
   "name": "python",
   "nbconvert_exporter": "python",
   "pygments_lexer": "ipython3",
   "version": "3.7.3"
  }
 },
 "nbformat": 4,
 "nbformat_minor": 2
}
